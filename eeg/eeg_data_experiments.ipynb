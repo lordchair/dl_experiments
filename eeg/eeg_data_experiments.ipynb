{
 "cells": [
  {
   "cell_type": "code",
   "execution_count": 1,
   "metadata": {
    "ExecuteTime": {
     "end_time": "2017-04-07T00:10:51.021642",
     "start_time": "2017-04-07T00:10:50.054101"
    },
    "collapsed": false
   },
   "outputs": [
    {
     "name": "stderr",
     "output_type": "stream",
     "text": [
      "Using TensorFlow backend.\n"
     ]
    }
   ],
   "source": [
    "import sys\n",
    "import os\n",
    "import numpy as np\n",
    "import scipy\n",
    "import scipy.io\n",
    "import tensorflow as tf\n",
    "import keras as k"
   ]
  },
  {
   "cell_type": "markdown",
   "metadata": {},
   "source": [
    "## Data Prep\n",
    "### Data ReadMe\n",
    "\n",
    "Kaneshiro_etAl_objectCategoryEEG_README.txt\n",
    "\n",
    "Data name: EEG data analyzed in \"A Representational Similarity Analysis of the Dynamics of Object Processing Using Single-Trial EEG Classification\"\n",
    "Creator: Blair Kaneshiro, blairbo@ccrma.stanford.edu\n",
    "PURL: http://purl.stanford.edu/bq914sc3730\n",
    "\n",
    "Preferred citation: Kaneshiro, Blair and Perreau Guimaraes, Marcos and Kim, Hyung-Suk and Norcia, Anthony M. and Suppes, Patrick (2015). EEG data analyzed in \"A Representational Similarity Analysis of the Dynamics of Object Processing Using Single-Trial EEG Classification\". Stanford Digital Repository. Available at: http://purl.stanford.edu/bq914sc3730\n",
    "\n",
    "The data package contains 10 anonymized datasets of scalp-recorded EEG in MATLAB (.mat) format. Each .mat file contains EEG data from one experimental subject. Data matrices have been preprocessed and are in the form used as input for classification. Dimensionality reduction/PCA has not been performed.\n",
    "\n",
    "Variables contained in each dataset\n",
    "- sub: Experimental subject identifier (e.g., 'S1', 'S2')\n",
    "- N: Number of time samples per trial (always 32)\n",
    "- Fs: Sampling frequency of the data (always 62.5Hz)\n",
    "- T: Number of experimental trials (around 5,184 per dataset)\n",
    "- exemplarLabels: A vector of length T containing the exemplar label of each trial.\n",
    "- categoryLabels: A vector of length T containing the category label of each trial. (1=Human Body; 2=Human Face; 3=Animal Body; 4=Animal Face; 5=Fruit Vegetable; 6=Inanimate Object)\n",
    "- X: The data matrix. Size of X is T rows by 124*N columns. Each row of X represents one experimental trial. Trial labels are corresponding elements in the exemplarLabels and categoryLabels vectors. Columns of X contain N time samples of EEG, concatenated from 124 electrodes (i.e., N time samples from electrode 1 followed by N time samples from electrode 2, etc.). Electrode numbers correspond to channels 1-124 of EGI's HydroCel Geodesic Sensor Net, 128 channels (ftp://ftp.egi.com/pub/support/Documents/net_layouts/hcgsn_128.pdf)."
   ]
  },
  {
   "cell_type": "markdown",
   "metadata": {},
   "source": [
    "### Get the data\n",
    "Get the matlab files and extract the data/labels"
   ]
  },
  {
   "cell_type": "code",
   "execution_count": 2,
   "metadata": {
    "ExecuteTime": {
     "end_time": "2017-04-07T00:10:58.833845",
     "start_time": "2017-04-07T00:10:51.023200"
    },
    "collapsed": false
   },
   "outputs": [],
   "source": [
    "data_files = ['data/S%d.mat' % (i+1) for i in range(10)]\n",
    "data = [scipy.io.loadmat(a_file) for a_file in data_files]"
   ]
  },
  {
   "cell_type": "code",
   "execution_count": 3,
   "metadata": {
    "ExecuteTime": {
     "end_time": "2017-04-07T00:10:58.844108",
     "start_time": "2017-04-07T00:10:58.835404"
    },
    "collapsed": false
   },
   "outputs": [
    {
     "name": "stdout",
     "output_type": "stream",
     "text": [
      "('Fs', array([[ 62.5]]))\n",
      "('sub', array([u'S1'], \n",
      "      dtype='<U2'))\n",
      "('__globals__', [])\n",
      "('__header__', 'MATLAB 5.0 MAT-file, Platform: MACI64, Created on: Fri Feb  6 14:21:30 2015')\n",
      "('N', array([[32]], dtype=uint8))\n",
      "('T', array([[5188]], dtype=uint16))\n",
      "('X', array([[-0.26424164, -0.47586018, -0.47061757, ...,  0.05198565,\n",
      "         0.08307296, -0.04543913],\n",
      "       [ 0.0028675 , -0.04133774,  0.05108967, ...,  0.09525956,\n",
      "        -0.00872008,  0.12494965],\n",
      "       [-0.22358645,  0.02478356,  0.08543183, ...,  0.0938575 ,\n",
      "         0.06906053,  0.09690079],\n",
      "       ..., \n",
      "       [ 0.17795506, -0.06740315,  0.09080031, ..., -0.11675177,\n",
      "        -0.19592201, -0.16641006],\n",
      "       [ 0.18887348,  0.17863007,  0.32982534, ...,  0.10712342,\n",
      "         0.10700955,  0.0652873 ],\n",
      "       [ 0.02932549, -0.05199817, -0.15791252, ..., -0.09192452,\n",
      "        -0.04275392,  0.08084101]]))\n",
      "('__version__', '1.0')\n",
      "('exemplarLabels', array([[40, 64, 29, ..., 59,  3, 12]], dtype=uint8))\n",
      "('categoryLabels', array([[4, 6, 3, ..., 5, 1, 1]], dtype=uint8))\n",
      "[5188, 5185, 5186, 5186, 5185, 5186, 5188, 5184, 5185, 5184]\n",
      "[5188, 5185, 5186, 5186, 5185, 5186, 5188, 5184, 5185, 5184]\n"
     ]
    }
   ],
   "source": [
    "for key in data[0]:\n",
    "    print(key, data[0][key])\n",
    "    \n",
    "print([len(data[i]['X']) for i in range(len(data))])\n",
    "print([len(data[i]['categoryLabels'][0]) for i in range(len(data))])"
   ]
  },
  {
   "cell_type": "markdown",
   "metadata": {},
   "source": [
    "### Organize the data\n",
    "Combine our data before shuffling. We set aside all data from a single subject as a special test that the model generalizes to new people"
   ]
  },
  {
   "cell_type": "code",
   "execution_count": 36,
   "metadata": {
    "ExecuteTime": {
     "end_time": "2017-04-07T00:50:06.559155",
     "start_time": "2017-04-07T00:49:57.839942"
    },
    "collapsed": false
   },
   "outputs": [
    {
     "name": "stdout",
     "output_type": "stream",
     "text": [
      "('all test data shape:   ', (46673, 3968))\n",
      "('all test labels shape: ', (1, 46673))\n",
      "()\n",
      "('new person holdout data shape:   ', (5184, 3968))\n",
      "('new person holdout labels shape: ', (5184, 1))\n"
     ]
    }
   ],
   "source": [
    "all_data = np.array(data[0]['X'])\n",
    "all_labels = np.array(data[0]['categoryLabels'])\n",
    "\n",
    "for ind in range(len(data) - 2):\n",
    "    data_runner = data[ind+1]\n",
    "    all_data = np.concatenate((all_data, data_runner['X']))\n",
    "    all_labels = np.concatenate((all_labels, data_runner['categoryLabels']), axis=1)\n",
    "all_data = all_data.reshape(-1, 124, 32).transpose((0, 2, 1)).reshape(-1, 124*32)\n",
    "    \n",
    "test_new_person_data = data[len(data)-1]['X'].reshape(-1, 124, 32).transpose((0, 2, 1)).reshape(-1, 124*32)\n",
    "test_new_person_labels = data[len(data)-1]['categoryLabels'].reshape((-1, 1)) - 1\n",
    "\n",
    "\n",
    "print('all test data shape:   ', all_data.shape)\n",
    "print('all test labels shape: ', all_labels.shape)\n",
    "print()\n",
    "print('new person holdout data shape:   ', test_new_person_data.shape)\n",
    "print('new person holdout labels shape: ', test_new_person_labels.shape)"
   ]
  },
  {
   "cell_type": "markdown",
   "metadata": {
    "ExecuteTime": {
     "end_time": "2017-04-06T19:49:13.790359",
     "start_time": "2017-04-06T19:49:13.770444"
    }
   },
   "source": [
    "shuffle the two lists, keeping their order matching"
   ]
  },
  {
   "cell_type": "code",
   "execution_count": 37,
   "metadata": {
    "ExecuteTime": {
     "end_time": "2017-04-07T00:50:10.970412",
     "start_time": "2017-04-07T00:50:10.967164"
    },
    "collapsed": true
   },
   "outputs": [],
   "source": [
    "def unison_shuffled_copies(a, b):\n",
    "    assert len(a) == len(b)\n",
    "    p = np.random.permutation(len(a))\n",
    "    return a[p], b[p]"
   ]
  },
  {
   "cell_type": "code",
   "execution_count": 38,
   "metadata": {
    "ExecuteTime": {
     "end_time": "2017-04-07T00:50:12.168999",
     "start_time": "2017-04-07T00:50:11.421454"
    },
    "collapsed": false
   },
   "outputs": [],
   "source": [
    "shuffled_data, shuffled_labels = unison_shuffled_copies(all_data, all_labels.reshape(-1))\n",
    "shuffled_labels = shuffled_labels.reshape((-1, 1))\n",
    "\n",
    "    \n",
    "shuffled_labels = shuffled_labels - 1 # zero index the labels (3 -> 2)\n",
    "# shuffled_labels = keras.utils.np_utils.to_categorical(shuffled_labels) # change them to one-hot vectors (2 -> [0, 0, 1, 0, 0, 0])"
   ]
  },
  {
   "cell_type": "code",
   "execution_count": 39,
   "metadata": {
    "ExecuteTime": {
     "end_time": "2017-04-07T00:50:12.174101",
     "start_time": "2017-04-07T00:50:12.170436"
    },
    "collapsed": false
   },
   "outputs": [
    {
     "name": "stdout",
     "output_type": "stream",
     "text": [
      "(46673, 3968)\n",
      "(46673, 1)\n"
     ]
    }
   ],
   "source": [
    "print(shuffled_data.shape)\n",
    "print(shuffled_labels.shape)"
   ]
  },
  {
   "cell_type": "markdown",
   "metadata": {
    "ExecuteTime": {
     "end_time": "2017-04-06T19:51:18.382634",
     "start_time": "2017-04-06T19:51:18.380133"
    },
    "collapsed": true
   },
   "source": [
    "split data into test and training portions"
   ]
  },
  {
   "cell_type": "code",
   "execution_count": 40,
   "metadata": {
    "ExecuteTime": {
     "end_time": "2017-04-07T00:50:12.386595",
     "start_time": "2017-04-07T00:50:12.382664"
    },
    "collapsed": false
   },
   "outputs": [],
   "source": [
    "test_portion = .1 # 10% of data reserved for final testing\n",
    "\n",
    "test_size = int(len(shuffled_data) * test_portion)\n",
    "\n",
    "test_data = shuffled_data[:test_size]\n",
    "test_labels = shuffled_labels[:test_size]\n",
    "\n",
    "training_data = shuffled_data[test_size:]\n",
    "training_labels = shuffled_labels[test_size:]"
   ]
  },
  {
   "cell_type": "code",
   "execution_count": 41,
   "metadata": {
    "ExecuteTime": {
     "end_time": "2017-04-07T00:50:12.826111",
     "start_time": "2017-04-07T00:50:12.822094"
    },
    "collapsed": false
   },
   "outputs": [
    {
     "name": "stdout",
     "output_type": "stream",
     "text": [
      "(4667, 3968)\n",
      "(4667, 1)\n",
      "(42006, 3968)\n",
      "(42006, 1)\n"
     ]
    }
   ],
   "source": [
    "print(test_data.shape)\n",
    "print(test_labels.shape)\n",
    "print(training_data.shape)\n",
    "print(training_labels.shape)"
   ]
  },
  {
   "cell_type": "markdown",
   "metadata": {},
   "source": [
    "## Model\n",
    "### Set up"
   ]
  },
  {
   "cell_type": "code",
   "execution_count": 42,
   "metadata": {
    "ExecuteTime": {
     "end_time": "2017-04-07T00:50:14.637972",
     "start_time": "2017-04-07T00:50:13.468622"
    },
    "collapsed": false,
    "scrolled": false
   },
   "outputs": [],
   "source": [
    "model = k.models.Sequential()\n",
    "\n",
    "model.add(k.layers.core.Reshape((32, 124), input_shape=(3968,)))\n",
    "\n",
    "# model.add(k.layers.recurrent.GRU(32, dropout=.2, recurrent_dropout=.2, activation='tanh', recurrent_activation='hard_sigmoid', return_sequences=True))\n",
    "\n",
    "model.add(k.layers.recurrent.GRU(32, dropout=.2, recurrent_dropout=.2, activation='tanh', recurrent_activation='hard_sigmoid', return_sequences=True))\n",
    "model.add(k.layers.normalization.BatchNormalization(axis=-1, momentum=0.99, epsilon=0.001))\n",
    "\n",
    "model.add(k.layers.convolutional.Conv1D(64, 16, padding='causal', activation='relu'))\n",
    "model.add(k.layers.normalization.BatchNormalization(axis=-1, momentum=0.99, epsilon=0.001))\n",
    "model.add(k.layers.core.Dropout(.2))\n",
    "\n",
    "model.add(k.layers.convolutional.Conv1D(32, 4, padding='causal', activation='relu'))\n",
    "model.add(k.layers.normalization.BatchNormalization(axis=-1, momentum=0.99, epsilon=0.001))\n",
    "model.add(k.layers.core.Dropout(.2))\n",
    "\n",
    "model.add(k.layers.Flatten())\n",
    "\n",
    "model.add(k.layers.Dense(24))\n",
    "model.add(k.layers.Activation('relu'))\n",
    "model.add(k.layers.core.Dropout(.2))\n",
    "\n",
    "model.add(k.layers.Dense(6))\n",
    "\n",
    "model.add(k.layers.Activation('softmax'))\n",
    "\n",
    "# Compile model\n",
    "model.compile(loss='sparse_categorical_crossentropy', optimizer='adam', metrics=['accuracy'])\n",
    "\n",
    "\n",
    "# print(model.layers[-1].output_shape)\n",
    "# print(model.to_yaml())"
   ]
  },
  {
   "cell_type": "markdown",
   "metadata": {},
   "source": [
    "### Train"
   ]
  },
  {
   "cell_type": "code",
   "execution_count": 43,
   "metadata": {
    "ExecuteTime": {
     "end_time": "2017-04-07T01:01:03.406322",
     "start_time": "2017-04-07T00:50:14.639580"
    },
    "collapsed": false,
    "scrolled": false
   },
   "outputs": [
    {
     "name": "stdout",
     "output_type": "stream",
     "text": [
      "Train on 37805 samples, validate on 4201 samples\n",
      "Epoch 1/20\n",
      "32s - loss: 1.7826 - acc: 0.2192 - val_loss: 1.7205 - val_acc: 0.2533\n",
      "Epoch 2/20\n",
      "31s - loss: 1.7047 - acc: 0.2668 - val_loss: 1.6381 - val_acc: 0.3164\n",
      "Epoch 3/20\n",
      "33s - loss: 1.6515 - acc: 0.3050 - val_loss: 1.5835 - val_acc: 0.3492\n",
      "Epoch 4/20\n",
      "32s - loss: 1.6216 - acc: 0.3211 - val_loss: 1.5582 - val_acc: 0.3571\n",
      "Epoch 5/20\n",
      "32s - loss: 1.5991 - acc: 0.3358 - val_loss: 1.5475 - val_acc: 0.3716\n",
      "Epoch 6/20\n",
      "31s - loss: 1.5840 - acc: 0.3459 - val_loss: 1.5210 - val_acc: 0.3797\n",
      "Epoch 7/20\n",
      "31s - loss: 1.5682 - acc: 0.3534 - val_loss: 1.5217 - val_acc: 0.3823\n",
      "Epoch 8/20\n",
      "31s - loss: 1.5564 - acc: 0.3624 - val_loss: 1.5037 - val_acc: 0.3963\n",
      "Epoch 9/20\n",
      "31s - loss: 1.5442 - acc: 0.3691 - val_loss: 1.4813 - val_acc: 0.3999\n",
      "Epoch 10/20\n",
      "31s - loss: 1.5313 - acc: 0.3725 - val_loss: 1.4736 - val_acc: 0.4073\n",
      "Epoch 11/20\n",
      "31s - loss: 1.5189 - acc: 0.3775 - val_loss: 1.4688 - val_acc: 0.4090\n",
      "Epoch 12/20\n",
      "32s - loss: 1.5085 - acc: 0.3889 - val_loss: 1.4557 - val_acc: 0.4144\n",
      "Epoch 13/20\n",
      "33s - loss: 1.4988 - acc: 0.3879 - val_loss: 1.4437 - val_acc: 0.4313\n",
      "Epoch 14/20\n",
      "32s - loss: 1.4855 - acc: 0.3970 - val_loss: 1.4629 - val_acc: 0.4259\n",
      "Epoch 15/20\n",
      "32s - loss: 1.4821 - acc: 0.3997 - val_loss: 1.4504 - val_acc: 0.4201\n",
      "Epoch 16/20\n",
      "32s - loss: 1.4767 - acc: 0.4011 - val_loss: 1.4431 - val_acc: 0.4292\n",
      "Epoch 17/20\n",
      "32s - loss: 1.4631 - acc: 0.4085 - val_loss: 1.4451 - val_acc: 0.4173\n",
      "Epoch 18/20\n",
      "32s - loss: 1.4538 - acc: 0.4124 - val_loss: 1.4429 - val_acc: 0.4237\n",
      "Epoch 19/20\n",
      "32s - loss: 1.4500 - acc: 0.4162 - val_loss: 1.4328 - val_acc: 0.4247\n",
      "Epoch 20/20\n",
      "32s - loss: 1.4382 - acc: 0.4196 - val_loss: 1.4226 - val_acc: 0.4370\n"
     ]
    },
    {
     "data": {
      "text/plain": [
       "<keras.callbacks.History at 0x17eae1ed0>"
      ]
     },
     "execution_count": 43,
     "metadata": {},
     "output_type": "execute_result"
    }
   ],
   "source": [
    "# Fit the model\n",
    "model.fit(training_data, training_labels, epochs=20, batch_size=100, verbose=2, shuffle=True, validation_split=.1)"
   ]
  },
  {
   "cell_type": "markdown",
   "metadata": {},
   "source": [
    "### Evaluate"
   ]
  },
  {
   "cell_type": "code",
   "execution_count": 44,
   "metadata": {
    "ExecuteTime": {
     "end_time": "2017-04-07T01:01:08.607738",
     "start_time": "2017-04-07T01:01:03.407654"
    },
    "collapsed": false
   },
   "outputs": [
    {
     "name": "stdout",
     "output_type": "stream",
     "text": [
      "4640/4667 [============================>.] - ETA: 0s\b\b\b\b\b\b\b\b\b\b\b\b\b\b\b\b\b\b\b\b\b\b\b\b\b\b\b\b\b\b\b\b\b\b\b\b\b\b\b\b\b\b\b\b\b\b\b\b\b\b\b\b\b\b\b\b\b\b\b\b\b\b\b\b\b\b\b\b\b\b\b\b\b\b\b\b\b\b\b\b\b\b\b\b\b\b\b\b\b\b\b\b\b\b\b\b\b\b\b\b\b\b\b\b\b\b\b\b\b\b\b\b\b\b\b\b\b\b\b\b\b\b\b\b\b\b\b\b\b\b\b\b\b\b\b\b\b\b\b\b\b\b\b\b\b\b\b\b\b\b\b\b\b\b\b\b\b\b\b\b\b\b\b\b\b\b\b\b\b\b\b\b\b\b\b\b\b\b\b\b\b\b\b\b\b\b\b\b\b\b\b\b\b\b\b\b\b\b\b\b\b\b\b\b\b\b\b\b\b\b\b\b\b\b\b\b\b\b\b\b\b\b\b\b\b\b\b\b\b\b\b\b\b\b\b\b\b\b\b\b\b\b\b\b\b\b\b\b\b\b\b\b\b\b\b\b\b\b\b\b\b\b\b\b\b\b\b\b\b\b\b\b\b\b\b\b\b\b\b\b\b\b\b\b\b\b\b\b\b\b\b\b\b\b\b\b\b\b\b\b\b\b\b\b\b\b\b\b\b\b\b\b\b\b\b\b\b\b\b\b\b\b\b\b\b\b\b\b\b\b\b\b\b\b\b\b\b\b\b\b\b\b\b\b\b\b\b\b\b\b\b\b\b\b\b\b\b\b\b\b\b\b\b\b\b\b\b\b\b\b\b\b\b\b\b\b\b\b\b\b\b\b\b\b\b\b\b\b\b\b\b\b\b\b\b\b\b\b\b\b\b\b\b\b\b\b\b\b\b\b\b\b\b\b\b\b\b\b\b\b\b\b\b\b\b\b\b\b\b\b\b\b\b\b\b\b\b\b\b\b\b\b\b\b\b\b\b\b\b\b\b\b\b\b\b\b\b\b\b\b\b\b\b\b\b\b\b\b\b\b\b\b\b\b\b\b\b\b\b\b\b\b\b\b\b\b\b\b\b\b\b\b\b\b\b\b\b\b\b\b\b\b\b\b\b\b\b\b\b\b\b\b\b\b\b\b\b\b\b\b\b\b\b\b\b\b\b\b\b\b\b\b\b\b\b\b\b\b\b\b\b\b\b\b\b\b\b\b\b\b\b\b\b\b\b\b\b\b\b\b\b\b\b\b\b\b\b\b\b\b\b\b\b\b\b\b\b\b\b\b\b\b\b\b\b\b\b\b\b\b\b\b\b\b\b\b\b\b\b\b\b\b\b\b\b\b\b\b\b\b\b\b\b\b\b\b\b\b\b\b\b\b\b\b\b\b\b\b\b\b\b\b\b\b\b\b\b\b\b\b\b\b\b\b\b\b\b\b\b\b\b\b\b\b\b\b\b\b\b\b\b\b\b\b\b\b\b\b\b\b\b\b\b\b\b\b\b\b\b\b\b\b\b\b\b\b\b\b\b\b\b\b\b\b\b\b\b\b\b\b\b\b\b\b\b\b\b\b\b\b\b\b\b\b\b\b\b\b\b\b\b\b\b\b\b\b\b\b\b\b\b\b\b\b\b\b\b\b\b\b\b\b\b\b\b\b\b\b\b\b\b\b\b\b\b\b\b\b\b\b\b\b\b\b\b\b\b\b\b\b\b\b\b\b\b\b\b\b\b\b\b\b\b\b\b\b\b\b\b\b\b\b\b\b\b\b\b\b\b\b\b\b\b\b\b\b\b\b\b\b\b\b\b\b\b\b\b\b\b\b\b\b\b\b\b\b\b\b\b\b\b\b\b\b\b\b\b\b\b\b\b\b\b\b\b\b\b\b\b\b\b\b\b\b\b\b\b\b\b\b\b\b\b\b\b\b\b\b\b\b\b\b\b\b\b\b\b\b\b\b\b\b\b\b\b\b\b\b\b\b\b\b\b\b\b\b\b\b\b\b\b\b\b\b\b\b\b\b\b\b\b\b\b\b\b\b\b\b\b\b\b\b\b\b\b\b\b\b\b\b\b\b\b\b\b\b\b\b\b\b\b\b\b\b\b\b\b\b\b\b\b\b\b\b\b\b\b\b\b\b\b\b\b\b\b\b\b\b\b\b\b\b\b\b\b\b\b\b\b\b\b\b\b\b\b\b\b\b\b\b\b\b\b\b\b\b\b\b\b\b\b\b\b\b\b\b\b\b\b\b\b\b\b\b\b\b\b\b\b\b\b\b\b\b\b\b\b\b\b\b\b\b\b\b\b\b\b\b\b\b\b\b\b\b\b\b\b\b\b\b\b\b\b\b\b\b\b\b\b\b\b\b\b\b\b\b\b\b\b\b\b\b\b\b\b\b\b\b\b\b\b\b\b\b\b\b\b\b\b\b\b\b\b\b\b\b\b\b\b\b\b\b\b\b\b\b\b\b\b\b\b\b\b\b\b\b\b\b\b\b\b\b\b\b\b\b\b\b\b\b\b\b\b\b\b\b\b\b\b\b\b\b\b\b\b\b\b\b\b\b\b\b\b\b\b\b\b\b\b\b\b\b\b\b\b\b\b\b\b\b\b\b\b\b\b\b\b\b\b\b\b\b\b\b\b\b\b\b\b\b\b\b\b\b\b\b\b\b\b\b\b\b\b\b\b\b\b\b\b\b\b\b\b\b\b\b\b\b\b\b\b\b\b\b\b\b\b\b\b\b\b\b\b\b\b\b\b\b\b\b\b\b\b\b\b\b\b\b\b\b\b\b\b\b\b\b\b\b\b\b\b\b\b\b\b\b\b\b\b\b\b\b\b\b\b\b\b\b\b\b\b\b\b\b\b\b\b\b\b\b\b\b\b\b\b\b\b\b\b\b\b\b\b\b\b\b\b\b\b\b\b\b\b\b\b\b\b\b\b\b\b\b\b\b\b\b\b\b\b\b\b\b\b\b\b\b\b\b\b\b\b\b\b\b\b\b\b\b\b\b\b\b\b\b\b\b\b\b\b\b\b\b\b\b\b\b\b\b\b\b\b\b\b\b\b\b\b\b\b\b\b\b\b\b\b\b\b\b\b\b\b\b\b\b\b\b\b\b\b\b\b\b\b\b\b\b\b\b\b\b\b\b\b\b\b\b\b\b\b\b\b\b\b\b\b\b\b\b\b\b\b\b\b\b\b\b\b\b\b\b\b\b\b\b\b\b\b\b\b\b\b\b\b\b\b\b\b\b\b\b\b\b\b\b\b\b\b\b\b\b\b\b\b\b\b\b\b\b\b\b\b\b\b\b\b\b\b\b\b\b\b\b\b\b\b\b\b\b\b\b\b\b\b\b\b\b\b\b\b\b\b\b\b\b\b\b\b\b\b\b\b\b\b\b\b\b\b\b\b\b\b\b\b\b\b\b\b\b\b\b\b\b\b\b\b\b\b\b\b\b\b\b\b\b\b\b\b\b\b\b\b\b\b\b\b\b\b\b\b\b\b\b\b\b\b\b\b\b\b\b\b\b\b\b\b\b\b\b\b\b\b\b\b\b\b\b\b\b\b\b\b\b\b\b\b\b\b\b\b\b\b\b\b\b\b\b\b\b\b\b\b\b\b\b\b\b\b\b\b\b\b\b\b\b\b\b\b\b\b\b\b\b\b\b\b\b\b\b\b\b\b\b\b\b\b\b\b\b\b\b\b\b\b\b\b\b\b\b\b\b\b\b\b\b\b\b\b\b\b\b\b\b\b\b\b\b\b\b\b\b\b\b\b\b\b\b\b\b\b\b\b\b\b\b\b\b\b\b\b\b\b\b\b\b\b\b\b\b\b\b\b\b\b\b\b\b\b\b\b\b\b\b\b\b\b\b\b\b\b\b\b\b\b\b\b\b\b\b\b\b\b\b\b\b\b\b\b\b\b\b\b\b\b\b\b\b\b\b\b\b\b\b\b\b\b\b\b\b\b\b\b\b\b\b\b\b\b\b\b\b\b\b\b\b\b\b\b\b\b\b\b\b\b\b\b\b\b\b\b\b\b\b\b\b\b\b\b\b\b\b\b\b\b\b\b\b\b\b\b\b\b\b\b\b\b\b\b\b\b\b\b\b\b\b\b\b\b\b\b\b\b\b\b\b\b\b\b\b\b\b\b\b\b\b\b\b\b\b\b\b\b\b\b\b\b\b\b\b\b\b\b\b\b\b\b\b\b\b\b\b\b\b\b\b\b\b\b\b\b\b\b\b\b\b\b\b\b\b\b\b\b\b\b\b\b\b\b\b\b\b\b\b\b\b\b\b\b\b\b\b\b\b\b\b\b\b\b\b\b\b\b\b\b\b\b\b\b\b\b\b\b\b\b\b\b\b\b\b\b\b\b\b\b\b\b\b\b\b\b\b\b\b\b\b\b\b\b\b\b\b\b\b\b\b\b\b\b\b\b\b\b\b\b\b\b\b\b\b\b\b\b\b\b\b\b\b\b\b\b\b\b\b\b\b\b\b\b\b\b\b\b\b\b\b\b\b\b\b\b\b\b\b\b\b\b\b\b\b\b\b\b\b\b\b\b\b\b\b\b\b\b\b\b\b\b\b\b\b\b\b\b\b\b\b\b\b\b\b\b\b\b\b\b\b\b\b\b\b\b\b\b\b\b\b\b\b\b\b\b\b\b\b\b\b\b\b\b\b\b\b\b\b\b\b\b\b\b\b\b\b\b\b\b\b\b\b\b\b\b\b\b\b\b\b\b\b\b\b\b\b\b\b\b\b\b\b\b\b\b\b\b\b\b\b\b\b\b\b\b\b\b\b\b\b\b\b\b\b\b\b\b\b\b\b\b\b\b\b\b\b\b\b\b\b\b\b\b\b\b\b\b\b\b\b\b\b\b\b\b\b\b\b\b\b\b\b\b\b\b\b\b\b\b\b\b\b\b\b\b\b\b\b\b\b\b\b\b\b\b\b\b\b\b\b\b\b\b\b\b\b\b\b\b\b\b\b\n",
      "model accuracy on holdout set: 43.65%\n",
      "\n",
      "5120/5184 [============================>.] - ETA: 0s\b\b\b\b\b\b\b\b\b\b\b\b\b\b\b\b\b\b\b\b\b\b\b\b\b\b\b\b\b\b\b\b\b\b\b\b\b\b\b\b\b\b\b\b\b\b\b\b\b\b\b\b\b\b\b\b\b\b\b\b\b\b\b\b\b\b\b\b\b\b\b\b\b\b\b\b\b\b\b\b\b\b\b\b\b\b\b\b\b\b\b\b\b\b\b\b\b\b\b\b\b\b\b\b\b\b\b\b\b\b\b\b\b\b\b\b\b\b\b\b\b\b\b\b\b\b\b\b\b\b\b\b\b\b\b\b\b\b\b\b\b\b\b\b\b\b\b\b\b\b\b\b\b\b\b\b\b\b\b\b\b\b\b\b\b\b\b\b\b\b\b\b\b\b\b\b\b\b\b\b\b\b\b\b\b\b\b\b\b\b\b\b\b\b\b\b\b\b\b\b\b\b\b\b\b\b\b\b\b\b\b\b\b\b\b\b\b\b\b\b\b\b\b\b\b\b\b\b\b\b\b\b\b\b\b\b\b\b\b\b\b\b\b\b\b\b\b\b\b\b\b\b\b\b\b\b\b\b\b\b\b\b\b\b\b\b\b\b\b\b\b\b\b\b\b\b\b\b\b\b\b\b\b\b\b\b\b\b\b\b\b\b\b\b\b\b\b\b\b\b\b\b\b\b\b\b\b\b\b\b\b\b\b\b\b\b\b\b\b\b\b\b\b\b\b\b\b\b\b\b\b\b\b\b\b\b\b\b\b\b\b\b\b\b\b\b\b\b\b\b\b\b\b\b\b\b\b\b\b\b\b\b\b\b\b\b\b\b\b\b\b\b\b\b\b\b\b\b\b\b\b\b\b\b\b\b\b\b\b\b\b\b\b\b\b\b\b\b\b\b\b\b\b\b\b\b\b\b\b\b\b\b\b\b\b\b\b\b\b\b\b\b\b\b\b\b\b\b\b\b\b\b\b\b\b\b\b\b\b\b\b\b\b\b\b\b\b\b\b\b\b\b\b\b\b\b\b\b\b\b\b\b\b\b\b\b\b\b\b\b\b\b\b\b\b\b\b\b\b\b\b\b\b\b\b\b\b\b\b\b\b\b\b\b\b\b\b\b\b\b\b\b\b\b\b\b\b\b\b\b\b\b\b\b\b\b\b\b\b\b\b\b\b\b\b\b\b\b\b\b\b\b\b\b\b\b\b\b\b\b\b\b\b\b\b\b\b\b\b\b\b\b\b\b\b\b\b\b\b\b\b\b\b\b\b\b\b\b\b\b\b\b\b\b\b\b\b\b\b\b\b\b\b\b\b\b\b\b\b\b\b\b\b\b\b\b\b\b\b\b\b\b\b\b\b\b\b\b\b\b\b\b\b\b\b\b\b\b\b\b\b\b\b\b\b\b\b\b\b\b\b\b\b\b\b\b\b\b\b\b\b\b\b\b\b\b\b\b\b\b\b\b\b\b\b\b\b\b\b\b\b\b\b\b\b\b\b\b\b\b\b\b\b\b\b\b\b\b\b\b\b\b\b\b\b\b\b\b\b\b\b\b\b\b\b\b\b\b\b\b\b\b\b\b\b\b\b\b\b\b\b\b\b\b\b\b\b\b\b\b\b\b\b\b\b\b\b\b\b\b\b\b\b\b\b\b\b\b\b\b\b\b\b\b\b\b\b\b\b\b\b\b\b\b\b\b\b\b\b\b\b\b\b\b\b\b\b\b\b\b\b\b\b\b\b\b\b\b\b\b\b\b\b\b\b\b\b\b\b\b\b\b\b\b\b\b\b\b\b\b\b\b\b\b\b\b\b\b\b\b\b\b\b\b\b\b\b\b\b\b\b\b\b\b\b\b\b\b\b\b\b\b\b\b\b\b\b\b\b\b\b\b\b\b\b\b\b\b\b\b\b\b\b\b\b\b\b\b\b\b\b\b\b\b\b\b\b\b\b\b\b\b\b\b\b\b\b\b\b\b\b\b\b\b\b\b\b\b\b\b\b\b\b\b\b\b\b\b\b\b\b\b\b\b\b\b\b\b\b\b\b\b\b\b\b\b\b\b\b\b\b\b\b\b\b\b\b\b\b\b\b\b\b\b\b\b\b\b\b\b\b\b\b\b\b\b\b\b\b\b\b\b\b\b\b\b\b\b\b\b\b\b\b\b\b\b\b\b\b\b\b\b\b\b\b\b\b\b\b\b\b\b\b\b\b\b\b\b\b\b\b\b\b\b\b\b\b\b\b\b\b\b\b\b\b\b\b\b\b\b\b\b\b\b\b\b\b\b\b\b\b\b\b\b\b\b\b\b\b\b\b\b\b\b\b\b\b\b\b\b\b\b\b\b\b\b\b\b\b\b\b\b\b\b\b\b\b\b\b\b\b\b\b\b\b\b\b\b\b\b\b\b\b\b\b\b\b\b\b\b\b\b\b\b\b\b\b\b\b\b\b\b\b\b\b\b\b\b\b\b\b\b\b\b\b\b\b\b\b\b\b\b\b\b\b\b\b\b\b\b\b\b\b\b\b\b\b\b\b\b\b\b\b\b\b\b\b\b\b\b\b\b\b\b\b\b\b\b\b\b\b\b\b\b\b\b\b\b\b\b\b\b\b\b\b\b\b\b\b\b\b\b\b\b\b\b\b\b\b\b\b\b\b\b\b\b\b\b\b\b\b\b\b\b\b\b\b\b\b\b\b\b\b\b\b\b\b\b\b\b\b\b\b\b\b\b\b\b\b\b\b\b\b\b\b\b\b\b\b\b\b\b\b\b\b\b\b\b\b\b\b\b\b\b\b\b\b\b\b\b\b\b\b\b\b\b\b\b\b\b\b\b\b\b\b\b\b\b\b\b\b\b\b\b\b\b\b\b\b\b\b\b\b\b\b\b\b\b\b\b\b\b\b\b\b\b\b\b\b\b\b\b\b\b\b\b\b\b\b\b\b\b\b\b\b\b\b\b\b\b\b\b\b\b\b\b\b\b\b\b\b\b\b\b\b\b\b\b\b\b\b\b\b\b\b\b\b\b\b\b\b\b\b\b\b\b\b\b\b\b\b\b\b\b\b\b\b\b\b\b\b\b\b\b\b\b\b\b\b\b\b\b\b\b\b\b\b\b\b\b\b\b\b\b\b\b\b\b\b\b\b\b\b\b\b\b\b\b\b\b\b\b\b\b\b\b\b\b\b\b\b\b\b\b\b\b\b\b\b\b\b\b\b\b\b\b\b\b\b\b\b\b\b\b\b\b\b\b\b\b\b\b\b\b\b\b\b\b\b\b\b\b\b\b\b\b\b\b\b\b\b\b\b\b\b\b\b\b\b\b\b\b\b\b\b\b\b\b\b\b\b\b\b\b\b\b\b\b\b\b\b\b\b\b\b\b\b\b\b\b\b\b\b\b\b\b\b\b\b\b\b\b\b\b\b\b\b\b\b\b\b\b\b\b\b\b\b\b\b\b\b\b\b\b\b\b\b\b\b\b\b\b\b\b\b\b\b\b\b\b\b\b\b\b\b\b\b\b\b\b\b\b\b\b\b\b\b\b\b\b\b\b\b\b\b\b\b\b\b\b\b\b\b\b\b\b\b\b\b\b\b\b\b\b\b\b\b\b\b\b\b\b\b\b\b\b\b\b\b\b\b\b\b\b\b\b\b\b\b\b\b\b\b\b\b\b\b\b\b\b\b\b\b\b\b\b\b\b\b\b\b\b\b\b\b\b\b\b\b\b\b\b\b\b\b\b\b\b\b\b\b\b\b\b\b\b\b\b\b\b\b\b\b\b\b\b\b\b\b\b\b\b\b\b\b\b\b\b\b\b\b\b\b\b\b\b\b\b\b\b\b\b\b\b\b\b\b\b\b\b\b\b\b\b\b\b\b\b\b\b\b\b\b\b\b\b\b\b\b\b\b\b\b\b\b\b\b\b\b\b\b\b\b\b\b\b\b\b\b\b\b\b\b\b\b\b\b\b\b\b\b\b\b\b\b\b\b\b\b\b\b\b\b\b\b\b\b\b\b\b\b\b\b\b\b\b\b\b\b\b\b\b\b\b\b\b\b\b\b\b\b\b\b\b\b\b\b\b\b\b\b\b\b\b\b\b\b\b\b\b\b\b\b\b\b\b\b\b\b\b\b\b\b\b\b\b\b\b\b\b\b\b\b\b\b\b\b\b\b\b\b\b\b\b\b\b\b\b\b\b\b\b\b\b\b\b\b\b\b\b\b\b\b\b\b\b\b\b\b\b\b\b\b\b\b\b\b\b\b\b\b\b\b\b\b\b\b\b\b\b\b\b\b\b\b\b\b\b\b\b\b\b\b\b\b\b\b\b\b\b\b\b\b\b\b\b\b\b\b\b\b\b\b\b\b\b\b\b\b\b\b\b\b\b\b\b\b\b\b\b\b\b\b\b\b\b\b\b\b\b\b\b\b\b\b\b\b\b\b\b\b\b\b\b\b\b\b\b\b\b\b\b\b\b\b\b\b\b\b\b\b\b\b\b\b\b\b\b\b\b\b\b\b\b\b\b\b\b\b\b\b\b\b\b\b\b\b\b\b\b\b\b\b\b\b\b\b\b\b\b\b\b\b\b\b\b\b\b\b\b\b\b\b\b\b\b\b\b\b\b\b\b\b\b\b\b\b\b\b\b\b\b\b\b\b\b\b\b\b\b\b\b\b\b\b\b\b\b\b\b\b\b\b\b\b\b\b\b\b\b\b\b\b\b\b\b\b\b\b\b\b\b\b\b\b\b\b\b\b\b\b\b\b\b\b\b\b\b\b\b\b\b\b\b\b\b\b\b\b\b\b\b\b\b\b\b\b\b\b\b\b\b\b\b\b\b\b\b\b\b\b\b\b\b\b\b\b\b\b\b\b\b\b\b\b\b\b\b\b\b\b\b\b\b\b\b\b\b\b\b\b\b\b\b\b\b\b\b\b\b\b\b\b\b\b\b\b\b\b\b\b\b\b\b\b\b\b\b\b\b\b\b\b\b\b\b\b\b\b\b\b\b\b\b\b\b\b\b\b\b\b\b\b\b\b\b\b\b\b\b\b\b\b\b\b\b\b\b\b\b\b\b\b\b\b\b\b\b\b\b\b\b\b\b\b\b\b\b\b\b\b\b\b\b\b\b\b\b\b\b\b\b\b\b\b\b\b\b\b\b\b\b\b\b\b\b\b\b\b\b\b\b\b\b\b\b\b\b\b\b\b\b\b\b\b\b\b\b\b\b\b\b\b\b\b\b\b\b\b\b\b\b\b\b\b\b\b\b\b\b\b\b\b\b\b\b\b\b\b\b\b\b\b\b\b\b\b\b\b\b\b\b\b\b\b\b\b\b\b\b\b\b\b\b\b\b\b\b\b\b\b\b\b\b\b\b\b\b\b\b\b\b\b\b\b\b\b\b\b\b\b\b\b\b\b\b\b\b\b\b\b\b\b\b\b\b\b\b\b\b\b\b\b\b\b\b\b\b\b\b\b\b\b\b\b\b\b\b\b\b\b\b\b\b\b\b\b\b\b\b\b\b\b\b\b\b\b\b\b\b\b\b\b\b\b\b\b\b\b\b\b\b\b\b\b\b\b\b\b\b\b\b\b\b\b\b\n",
      "model accuracy on entirely new person: 32.18%\n"
     ]
    }
   ],
   "source": [
    "scores = model.evaluate(test_data, test_labels)\n",
    "print\n",
    "print(\"model accuracy on holdout set: %.2f%%\" % (scores[1]*100))\n",
    "\n",
    "print\n",
    "\n",
    "new_person_results = model.evaluate(test_new_person_data, test_new_person_labels)\n",
    "print\n",
    "print('model accuracy on entirely new person: %.2f%%' % (new_person_results[1] * 100))"
   ]
  },
  {
   "cell_type": "code",
   "execution_count": null,
   "metadata": {
    "collapsed": true
   },
   "outputs": [],
   "source": []
  }
 ],
 "metadata": {
  "kernelspec": {
   "display_name": "Python 2",
   "language": "python",
   "name": "python2"
  },
  "language_info": {
   "codemirror_mode": {
    "name": "ipython",
    "version": 2
   },
   "file_extension": ".py",
   "mimetype": "text/x-python",
   "name": "python",
   "nbconvert_exporter": "python",
   "pygments_lexer": "ipython2",
   "version": "2.7.13"
  },
  "toc": {
   "colors": {
    "hover_highlight": "#DAA520",
    "running_highlight": "#FF0000",
    "selected_highlight": "#FFD700"
   },
   "moveMenuLeft": true,
   "nav_menu": {
    "height": "12px",
    "width": "252px"
   },
   "navigate_menu": true,
   "number_sections": true,
   "sideBar": true,
   "threshold": 4,
   "toc_cell": false,
   "toc_section_display": "block",
   "toc_window_display": false
  }
 },
 "nbformat": 4,
 "nbformat_minor": 2
}
